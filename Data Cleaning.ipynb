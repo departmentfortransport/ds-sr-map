{
 "cells": [
  {
   "cell_type": "markdown",
   "metadata": {},
   "source": [
    "## Libraries"
   ]
  },
  {
   "cell_type": "code",
   "execution_count": 2,
   "metadata": {
    "collapsed": true
   },
   "outputs": [],
   "source": [
    "import pandas as pd"
   ]
  },
  {
   "cell_type": "markdown",
   "metadata": {},
   "source": [
    "## Options"
   ]
  },
  {
   "cell_type": "code",
   "execution_count": 3,
   "metadata": {
    "collapsed": false
   },
   "outputs": [
    {
     "data": {
      "text/html": [
       "<style>.container { width:100% !important; }</style>"
      ],
      "text/plain": [
       "<IPython.core.display.HTML object>"
      ]
     },
     "metadata": {},
     "output_type": "display_data"
    }
   ],
   "source": [
    "from IPython.core.display import display, HTML\n",
    "display(HTML(\"<style>.container { width:100% !important; }</style>\"))"
   ]
  },
  {
   "cell_type": "markdown",
   "metadata": {},
   "source": [
    "## Variables"
   ]
  },
  {
   "cell_type": "code",
   "execution_count": 7,
   "metadata": {
    "collapsed": true
   },
   "outputs": [],
   "source": [
    "data_loc = './data/locs_in.csv'\n",
    "data_json = './data/locs_out.json'\n",
    "data_csv = './data/locs_out.csv'\n",
    "col_names = ['uid','lat','long','base','count','duration','floor','outcome','category']\n",
    "col_keep = ['uid','lat','long','base','duration','outcome','category']"
   ]
  },
  {
   "cell_type": "markdown",
   "metadata": {},
   "source": [
    "## Functions"
   ]
  },
  {
   "cell_type": "code",
   "execution_count": 27,
   "metadata": {
    "collapsed": false
   },
   "outputs": [],
   "source": [
    "def color_func (row):\n",
    "    if row['base'] == 'Sumburgh':\n",
    "        return 'rgb(0,130,202)'\n",
    "\n",
    "    elif row['base'] == 'Inverness':\n",
    "        return 'rgb(210,95,21)'\n",
    "\n",
    "    elif row['base'] == 'Stornoway':\n",
    "        return 'rgb(233,190,113)'\n",
    "\n",
    "    elif row['base'] == 'Humberside':\n",
    "        return 'rgb(98,167,15)'\n",
    "\n",
    "    elif row['base'] == 'Caernarfon':\n",
    "        return 'rgb(0,153,169)'\n",
    "\n",
    "    elif row['base'] == 'Lydd':\n",
    "        return 'rgb(,201,146,18)'\n",
    "\n",
    "    elif row['base'] == 'Lee On Solent':\n",
    "        return 'rgb(0,149,59)'\n",
    "\n",
    "    elif row['base'] == 'Portland':\n",
    "        return 'rgb(84,86,91)'\n",
    "\n",
    "    elif row['base'] == 'St Athan':\n",
    "        return 'rgb(228,159,115)'\n",
    "\n",
    "    elif row['base'] == 'Prestwick':\n",
    "        return 'rgb(130,130,130)'\n",
    "\n",
    "    if row['base'] == 'Newquay':\n",
    "        return 'rgb(102,194,203)'"
   ]
  },
  {
   "cell_type": "code",
   "execution_count": 28,
   "metadata": {
    "collapsed": false
   },
   "outputs": [],
   "source": [
    "df = pd.read_csv(data_loc)                  # Read in the Data\n",
    "df.columns = col_names                      # Rename the columns\n",
    "df = df[col_keep]                           # Keep specifed column names\n",
    "df['color'] = df.apply(color_func,axis=1)   # Create the color column\n",
    "df = df.round(2)                            # Round everything to 2 dp\n",
    "\n",
    "df_json = df.to_json(orient='records')      # Convert to JSON\n",
    "with open(data_json, 'w') as f:             \n",
    "    f.write(df_json)                        # Export to JSON\n",
    "    \n",
    "df.to_csv(data_csv,index=False)             # Export to csv"
   ]
  },
  {
   "cell_type": "code",
   "execution_count": 29,
   "metadata": {
    "collapsed": false
   },
   "outputs": [],
   "source": [
    "bases = df[['base','color']].drop_duplicates()"
   ]
  },
  {
   "cell_type": "code",
   "execution_count": 30,
   "metadata": {
    "collapsed": false
   },
   "outputs": [],
   "source": [
    "base_list = bases['base'].tolist()\n",
    "col_list = bases['color'].tolist()"
   ]
  },
  {
   "cell_type": "code",
   "execution_count": 31,
   "metadata": {
    "collapsed": false
   },
   "outputs": [
    {
     "data": {
      "text/plain": [
       "['Caernarfon',\n",
       " 'Humberside',\n",
       " 'Sumburgh',\n",
       " 'Inverness',\n",
       " 'Lee On Solent',\n",
       " 'Lydd',\n",
       " 'Newquay',\n",
       " 'Portland',\n",
       " 'Prestwick',\n",
       " 'St Athan',\n",
       " 'Stornoway']"
      ]
     },
     "execution_count": 31,
     "metadata": {},
     "output_type": "execute_result"
    }
   ],
   "source": [
    "base_list"
   ]
  },
  {
   "cell_type": "code",
   "execution_count": 32,
   "metadata": {
    "collapsed": false
   },
   "outputs": [
    {
     "data": {
      "text/plain": [
       "['rgb(0,153,169)',\n",
       " 'rgb(98,167,15)',\n",
       " 'rgb(0,130,202)',\n",
       " 'rgb(210,95,21)',\n",
       " 'rgb(0,149,59)',\n",
       " 'rgb(,201,146,18)',\n",
       " 'rgb(102,194,203)',\n",
       " 'rgb(84,86,91)',\n",
       " 'rgb(130,130,130)',\n",
       " 'rgb(228,159,115)',\n",
       " 'rgb(233,190,113)']"
      ]
     },
     "execution_count": 32,
     "metadata": {},
     "output_type": "execute_result"
    }
   ],
   "source": [
    "col_list"
   ]
  },
  {
   "cell_type": "code",
   "execution_count": null,
   "metadata": {
    "collapsed": true
   },
   "outputs": [],
   "source": []
  }
 ],
 "metadata": {
  "anaconda-cloud": {},
  "kernelspec": {
   "display_name": "Python [default]",
   "language": "python",
   "name": "python3"
  },
  "language_info": {
   "codemirror_mode": {
    "name": "ipython",
    "version": 3
   },
   "file_extension": ".py",
   "mimetype": "text/x-python",
   "name": "python",
   "nbconvert_exporter": "python",
   "pygments_lexer": "ipython3",
   "version": "3.5.2"
  }
 },
 "nbformat": 4,
 "nbformat_minor": 1
}

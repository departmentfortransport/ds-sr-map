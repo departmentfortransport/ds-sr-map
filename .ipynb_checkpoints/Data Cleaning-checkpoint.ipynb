{
 "cells": [
  {
   "cell_type": "markdown",
   "metadata": {},
   "source": [
    "## Libraries"
   ]
  },
  {
   "cell_type": "code",
   "execution_count": 1,
   "metadata": {
    "collapsed": true
   },
   "outputs": [],
   "source": [
    "import pandas as pd"
   ]
  },
  {
   "cell_type": "markdown",
   "metadata": {},
   "source": [
    "## Options"
   ]
  },
  {
   "cell_type": "code",
   "execution_count": 2,
   "metadata": {
    "collapsed": false
   },
   "outputs": [
    {
     "data": {
      "text/html": [
       "<style>.container { width:100% !important; }</style>"
      ],
      "text/plain": [
       "<IPython.core.display.HTML object>"
      ]
     },
     "metadata": {},
     "output_type": "display_data"
    }
   ],
   "source": [
    "from IPython.core.display import display, HTML\n",
    "display(HTML(\"<style>.container { width:100% !important; }</style>\"))"
   ]
  },
  {
   "cell_type": "markdown",
   "metadata": {},
   "source": [
    "## Variables"
   ]
  },
  {
   "cell_type": "code",
   "execution_count": 18,
   "metadata": {
    "collapsed": true
   },
   "outputs": [],
   "source": [
    "data_loc = './data/locs.csv'\n",
    "data_out = './data/locs.json'\n",
    "col_names = ['uid','lat','long','base','count','duration','floor','outcome','category','color']"
   ]
  },
  {
   "cell_type": "markdown",
   "metadata": {},
   "source": [
    "## Functions"
   ]
  },
  {
   "cell_type": "code",
   "execution_count": 10,
   "metadata": {
    "collapsed": false
   },
   "outputs": [],
   "source": [
    "def color_func (row):\n",
    "    if row['Base'] == 'Sumburgh':\n",
    "        return 'rgb(0,130,202)'\n",
    "\n",
    "    elif row['Base'] == 'Inverness':\n",
    "        return 'rgb(210,95,21)'\n",
    "\n",
    "    elif row['Base'] == 'Stornoway':\n",
    "        return 'rgb(233,190,113)'\n",
    "\n",
    "    elif row['Base'] == 'Humberside':\n",
    "        return 'rgb(98,167,15)'\n",
    "\n",
    "    elif row['Base'] == 'Caernarfon':\n",
    "        return 'rgb(0,153,169)'\n",
    "\n",
    "    elif row['Base'] == 'Lydd':\n",
    "        return 'rgb(,201,146,18)'\n",
    "\n",
    "    elif row['Base'] == 'Lee-on-Solent':\n",
    "        return 'rgb(0,149,59)'\n",
    "\n",
    "    elif row['Base'] == 'Portland':\n",
    "        return 'rgb(84,86,91)'\n",
    "\n",
    "    elif row['Base'] == 'St Athan':\n",
    "        return 'rgb(228,159,115)'\n",
    "\n",
    "    elif row['Base'] == 'Prestwick':\n",
    "        return 'rgb(130,130,130)'\n",
    "\n",
    "    if row['Base'] == 'Newquay':\n",
    "        return 'rgb(102,194,203)'"
   ]
  },
  {
   "cell_type": "code",
   "execution_count": 21,
   "metadata": {
    "collapsed": false
   },
   "outputs": [],
   "source": [
    "df = pd.read_csv(data_loc)                  # Read in the Data\n",
    "df['color'] = df.apply(color_func,axis=1)   # Create the color column\n",
    "df.columns = col_names                      # Rename the columns\n",
    "df_json = df.to_json(orient='records')      # Convert to JSON\n",
    "with open(data_out, 'w') as f:              # Create / open the output file\n",
    "    f.write(df_json)                        # Write the file"
   ]
  },
  {
   "cell_type": "code",
   "execution_count": 22,
   "metadata": {
    "collapsed": false
   },
   "outputs": [
    {
     "data": {
      "text/html": [
       "<div>\n",
       "<table border=\"1\" class=\"dataframe\">\n",
       "  <thead>\n",
       "    <tr style=\"text-align: right;\">\n",
       "      <th></th>\n",
       "      <th>uid</th>\n",
       "      <th>lat</th>\n",
       "      <th>long</th>\n",
       "      <th>base</th>\n",
       "      <th>count</th>\n",
       "      <th>duration</th>\n",
       "      <th>floor</th>\n",
       "      <th>outcome</th>\n",
       "      <th>category</th>\n",
       "      <th>color</th>\n",
       "    </tr>\n",
       "  </thead>\n",
       "  <tbody>\n",
       "    <tr>\n",
       "      <th>0</th>\n",
       "      <td>Caer63161</td>\n",
       "      <td>54.457667</td>\n",
       "      <td>-3.206167</td>\n",
       "      <td>Caernarfon</td>\n",
       "      <td>1</td>\n",
       "      <td>154</td>\n",
       "      <td>150</td>\n",
       "      <td>Complete</td>\n",
       "      <td>Support</td>\n",
       "      <td>rgb(0,153,169)</td>\n",
       "    </tr>\n",
       "    <tr>\n",
       "      <th>1</th>\n",
       "      <td>Caer64161</td>\n",
       "      <td>52.827167</td>\n",
       "      <td>-3.890833</td>\n",
       "      <td>Caernarfon</td>\n",
       "      <td>1</td>\n",
       "      <td>132</td>\n",
       "      <td>120</td>\n",
       "      <td>Complete</td>\n",
       "      <td>Rescue/ Recovery</td>\n",
       "      <td>rgb(0,153,169)</td>\n",
       "    </tr>\n",
       "    <tr>\n",
       "      <th>2</th>\n",
       "      <td>Caer65161</td>\n",
       "      <td>53.399833</td>\n",
       "      <td>-2.994167</td>\n",
       "      <td>Caernarfon</td>\n",
       "      <td>1</td>\n",
       "      <td>147</td>\n",
       "      <td>120</td>\n",
       "      <td>Stood Down</td>\n",
       "      <td>Search (Only)</td>\n",
       "      <td>rgb(0,153,169)</td>\n",
       "    </tr>\n",
       "    <tr>\n",
       "      <th>3</th>\n",
       "      <td>Caer66161</td>\n",
       "      <td>52.827167</td>\n",
       "      <td>-3.890833</td>\n",
       "      <td>Caernarfon</td>\n",
       "      <td>1</td>\n",
       "      <td>132</td>\n",
       "      <td>120</td>\n",
       "      <td>Complete</td>\n",
       "      <td>Rescue/ Recovery</td>\n",
       "      <td>rgb(0,153,169)</td>\n",
       "    </tr>\n",
       "    <tr>\n",
       "      <th>4</th>\n",
       "      <td>Caer67161</td>\n",
       "      <td>53.399833</td>\n",
       "      <td>-4.391667</td>\n",
       "      <td>Caernarfon</td>\n",
       "      <td>1</td>\n",
       "      <td>107</td>\n",
       "      <td>90</td>\n",
       "      <td>Complete</td>\n",
       "      <td>Rescue/ Recovery</td>\n",
       "      <td>rgb(0,153,169)</td>\n",
       "    </tr>\n",
       "  </tbody>\n",
       "</table>\n",
       "</div>"
      ],
      "text/plain": [
       "         uid        lat      long        base  count  duration  floor  \\\n",
       "0  Caer63161  54.457667 -3.206167  Caernarfon      1       154    150   \n",
       "1  Caer64161  52.827167 -3.890833  Caernarfon      1       132    120   \n",
       "2  Caer65161  53.399833 -2.994167  Caernarfon      1       147    120   \n",
       "3  Caer66161  52.827167 -3.890833  Caernarfon      1       132    120   \n",
       "4  Caer67161  53.399833 -4.391667  Caernarfon      1       107     90   \n",
       "\n",
       "      outcome          category           color  \n",
       "0    Complete           Support  rgb(0,153,169)  \n",
       "1    Complete  Rescue/ Recovery  rgb(0,153,169)  \n",
       "2  Stood Down     Search (Only)  rgb(0,153,169)  \n",
       "3    Complete  Rescue/ Recovery  rgb(0,153,169)  \n",
       "4    Complete  Rescue/ Recovery  rgb(0,153,169)  "
      ]
     },
     "execution_count": 22,
     "metadata": {},
     "output_type": "execute_result"
    }
   ],
   "source": []
  },
  {
   "cell_type": "code",
   "execution_count": 11,
   "metadata": {
    "collapsed": false
   },
   "outputs": [],
   "source": [
    "df_json = df.to_json(orient='records')"
   ]
  },
  {
   "cell_type": "code",
   "execution_count": 13,
   "metadata": {
    "collapsed": false
   },
   "outputs": [],
   "source": []
  },
  {
   "cell_type": "code",
   "execution_count": null,
   "metadata": {
    "collapsed": true
   },
   "outputs": [],
   "source": []
  }
 ],
 "metadata": {
  "anaconda-cloud": {},
  "kernelspec": {
   "display_name": "Python [default]",
   "language": "python",
   "name": "python3"
  },
  "language_info": {
   "codemirror_mode": {
    "name": "ipython",
    "version": 3
   },
   "file_extension": ".py",
   "mimetype": "text/x-python",
   "name": "python",
   "nbconvert_exporter": "python",
   "pygments_lexer": "ipython3",
   "version": "3.5.2"
  }
 },
 "nbformat": 4,
 "nbformat_minor": 1
}
